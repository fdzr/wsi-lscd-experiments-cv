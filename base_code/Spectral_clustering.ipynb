{
 "cells": [
  {
   "cell_type": "code",
   "execution_count": 1,
   "metadata": {},
   "outputs": [],
   "source": [
    "from datetime import datetime\n",
    "\n",
    "from common_new_functionalities import grid_search, load_dwug_sense\n",
    "from sklearn.cluster import SpectralClustering"
   ]
  },
  {
   "cell_type": "code",
   "execution_count": 2,
   "metadata": {},
   "outputs": [],
   "source": [
    "def get_clusters(adj_matrix, n_clusters, hyperparameters, seed=0):\n",
    "    seed += 2100\n",
    "    sc = SpectralClustering(\n",
    "        n_clusters,\n",
    "        affinity=\"precomputed\",\n",
    "        assign_labels=hyperparameters[\"strategy\"],\n",
    "        random_state=seed,\n",
    "    )\n",
    "    sc.fit(adj_matrix)\n",
    "    return sc.labels_"
   ]
  },
  {
   "cell_type": "code",
   "execution_count": 3,
   "metadata": {},
   "outputs": [],
   "source": [
    "model_hyperparameter_combinations = []\n",
    "\n",
    "for strategy in [\"kmeans\"]:\n",
    "    model_hyperparameter_combinations.append({\"strategy\": strategy})"
   ]
  },
  {
   "cell_type": "code",
   "execution_count": 4,
   "metadata": {},
   "outputs": [],
   "source": [
    "method = \"spectral_clustering-llama\"\n",
    "is_cross_validation=True\n",
    "path_to_experiments = {\n",
    "    True: \"../cv-experiments/\" + f\"{method}/\" + \"{kfold}_fold\",\n",
    "    False: \"../no-cv-experiments/\" + f\"{method}/\" + \"{kfold}\"\n",
    "}"
   ]
  },
  {
   "cell_type": "code",
   "execution_count": 5,
   "metadata": {},
   "outputs": [],
   "source": [
    "# logging.basicConfig(\n",
    "#     filename=f\"logs/{method}/logs.txt\",\n",
    "#     filemode=\"a+\",\n",
    "#     format=\"%(asctime)s : %(message)s\",\n",
    "#     datefmt=\"%y-%m-%d %I:%M:%S %p\",\n",
    "#     level=logging.INFO\n",
    "# )"
   ]
  },
  {
   "cell_type": "code",
   "execution_count": 6,
   "metadata": {
    "scrolled": true
   },
   "outputs": [
    {
     "name": "stdout",
     "output_type": "stream",
     "text": [
      "1200 uses loaded\n",
      "826 uses left after filtering by annotator agreement\n",
      "29400 scores before filtering\n",
      "14876 scores after filtering\n"
     ]
    },
    {
     "ename": "AttributeError",
     "evalue": "'GenerateResultsSC' object has no attribute 'load_cache'",
     "output_type": "error",
     "traceback": [
      "\u001b[0;31m---------------------------------------------------------------------------\u001b[0m",
      "\u001b[0;31mAttributeError\u001b[0m                            Traceback (most recent call last)",
      "Cell \u001b[0;32mIn[6], line 4\u001b[0m\n\u001b[1;32m      1\u001b[0m start_time \u001b[38;5;241m=\u001b[39m datetime\u001b[38;5;241m.\u001b[39mnow()\n\u001b[0;32m----> 4\u001b[0m \u001b[43mgrid_search\u001b[49m\u001b[43m(\u001b[49m\n\u001b[1;32m      5\u001b[0m \u001b[43m    \u001b[49m\u001b[43mload_dwug_sense\u001b[49m\u001b[43m,\u001b[49m\n\u001b[1;32m      6\u001b[0m \u001b[43m    \u001b[49m\u001b[43mget_clusters\u001b[49m\u001b[43m,\u001b[49m\n\u001b[1;32m      7\u001b[0m \u001b[43m    \u001b[49m\u001b[43mmodel_hyperparameter_combinations\u001b[49m\u001b[43m,\u001b[49m\n\u001b[1;32m      8\u001b[0m \u001b[43m    \u001b[49m\u001b[38;5;124;43m\"\u001b[39;49m\u001b[38;5;124;43mspectral_clustering\u001b[39;49m\u001b[38;5;124;43m\"\u001b[39;49m\u001b[43m,\u001b[49m\n\u001b[1;32m      9\u001b[0m \u001b[43m    \u001b[49m\u001b[43mmax_number_clusters\u001b[49m\u001b[38;5;241;43m=\u001b[39;49m\u001b[38;5;241;43m5\u001b[39;49m\u001b[43m,\u001b[49m\n\u001b[1;32m     10\u001b[0m \u001b[43m    \u001b[49m\u001b[43mlogger_message\u001b[49m\u001b[38;5;241;43m=\u001b[39;49m\u001b[38;5;28;43;01mNone\u001b[39;49;00m\u001b[43m,\u001b[49m\n\u001b[1;32m     11\u001b[0m \u001b[43m    \u001b[49m\u001b[43mcache\u001b[49m\u001b[38;5;241;43m=\u001b[39;49m\u001b[43mpath_to_experiments\u001b[49m\u001b[43m[\u001b[49m\u001b[43mis_cross_validation\u001b[49m\u001b[43m]\u001b[49m\u001b[43m,\u001b[49m\n\u001b[1;32m     12\u001b[0m \u001b[43m    \u001b[49m\u001b[43mrun_experiments\u001b[49m\u001b[38;5;241;43m=\u001b[39;49m\u001b[38;5;241;43m1\u001b[39;49m\u001b[43m,\u001b[49m\n\u001b[1;32m     13\u001b[0m \u001b[43m    \u001b[49m\u001b[43mdataset\u001b[49m\u001b[38;5;241;43m=\u001b[39;49m\u001b[38;5;124;43m\"\u001b[39;49m\u001b[38;5;124;43mdwug_data_annotated_only\u001b[39;49m\u001b[38;5;124;43m\"\u001b[39;49m\u001b[43m,\u001b[49m\n\u001b[1;32m     14\u001b[0m \u001b[43m    \u001b[49m\u001b[43mis_cross_validation\u001b[49m\u001b[38;5;241;43m=\u001b[39;49m\u001b[43mis_cross_validation\u001b[49m\n\u001b[1;32m     15\u001b[0m \u001b[43m)\u001b[49m\n\u001b[1;32m     17\u001b[0m \u001b[38;5;28mprint\u001b[39m(\u001b[38;5;124mf\u001b[39m\u001b[38;5;124m\"\u001b[39m\u001b[38;5;124mElapsed time: \u001b[39m\u001b[38;5;132;01m{\u001b[39;00mdatetime\u001b[38;5;241m.\u001b[39mnow()\u001b[38;5;250m \u001b[39m\u001b[38;5;241m-\u001b[39m\u001b[38;5;250m \u001b[39mstart_time\u001b[38;5;132;01m}\u001b[39;00m\u001b[38;5;124m\"\u001b[39m)\n",
      "File \u001b[0;32m~/projects/wsi-lscd-experiments-cv/base_code/common_new_functionalities.py:1290\u001b[0m, in \u001b[0;36mgrid_search\u001b[0;34m(get_data, get_clusters, model_hyperparameter_combinations, method, max_number_clusters, logger_message, cache, run_experiments, dataset, is_cross_validation)\u001b[0m\n\u001b[1;32m   1283\u001b[0m extra_information \u001b[38;5;241m=\u001b[39m {\n\u001b[1;32m   1284\u001b[0m     \u001b[38;5;124m\"\u001b[39m\u001b[38;5;124mdataset\u001b[39m\u001b[38;5;124m\"\u001b[39m: dataset,\n\u001b[1;32m   1285\u001b[0m     \u001b[38;5;124m\"\u001b[39m\u001b[38;5;124mname_file\u001b[39m\u001b[38;5;124m\"\u001b[39m: \u001b[38;5;124m\"\u001b[39m\u001b[38;5;124mtraining.csv\u001b[39m\u001b[38;5;124m\"\u001b[39m,\n\u001b[1;32m   1286\u001b[0m     \u001b[38;5;124m\"\u001b[39m\u001b[38;5;124mpath_file\u001b[39m\u001b[38;5;124m\"\u001b[39m: cache,\n\u001b[1;32m   1287\u001b[0m }\n\u001b[1;32m   1289\u001b[0m \u001b[38;5;28;01mif\u001b[39;00m is_cross_validation \u001b[38;5;129;01mis\u001b[39;00m \u001b[38;5;28;01mTrue\u001b[39;00m:\n\u001b[0;32m-> 1290\u001b[0m     results \u001b[38;5;241m=\u001b[39m \u001b[43mcross_validation\u001b[49m\u001b[43m(\u001b[49m\n\u001b[1;32m   1291\u001b[0m \u001b[43m        \u001b[49m\u001b[43mhyperparameter_combinations\u001b[49m\u001b[43m,\u001b[49m\n\u001b[1;32m   1292\u001b[0m \u001b[43m        \u001b[49m\u001b[43msenses\u001b[49m\u001b[43m,\u001b[49m\n\u001b[1;32m   1293\u001b[0m \u001b[43m        \u001b[49m\u001b[43mscores\u001b[49m\u001b[43m,\u001b[49m\n\u001b[1;32m   1294\u001b[0m \u001b[43m        \u001b[49m\u001b[43mget_clusters\u001b[49m\u001b[43m,\u001b[49m\n\u001b[1;32m   1295\u001b[0m \u001b[43m        \u001b[49m\u001b[43mmethod\u001b[49m\u001b[43m,\u001b[49m\n\u001b[1;32m   1296\u001b[0m \u001b[43m        \u001b[49m\u001b[43mmax_number_clusters\u001b[49m\u001b[43m,\u001b[49m\n\u001b[1;32m   1297\u001b[0m \u001b[43m        \u001b[49m\u001b[43mextra_information\u001b[49m\u001b[43m,\u001b[49m\n\u001b[1;32m   1298\u001b[0m \u001b[43m    \u001b[49m\u001b[43m)\u001b[49m\n\u001b[1;32m   1300\u001b[0m     save_cv_results(results, method)\n\u001b[1;32m   1301\u001b[0m \u001b[38;5;28;01melse\u001b[39;00m:\n",
      "File \u001b[0;32m~/projects/wsi-lscd-experiments-cv/base_code/common_new_functionalities.py:1088\u001b[0m, in \u001b[0;36mcross_validation\u001b[0;34m(hyperparameter_combinations, senses, scores, get_clusters, method, max_n_clusters, extra_information)\u001b[0m\n\u001b[1;32m   1083\u001b[0m \u001b[38;5;28;01mif\u001b[39;00m method \u001b[38;5;241m==\u001b[39m \u001b[38;5;124m\"\u001b[39m\u001b[38;5;124mcorrelation_clustering\u001b[39m\u001b[38;5;124m\"\u001b[39m:\n\u001b[1;32m   1084\u001b[0m     hyperparameter_combinations \u001b[38;5;241m=\u001b[39m generate_hyperparameter_combinations(\n\u001b[1;32m   1085\u001b[0m         generate_hyperparameter_combination_for_cc(train_set, scores)\n\u001b[1;32m   1086\u001b[0m     )\n\u001b[0;32m-> 1088\u001b[0m results \u001b[38;5;241m=\u001b[39m \u001b[43mtrain\u001b[49m\u001b[43m(\u001b[49m\n\u001b[1;32m   1089\u001b[0m \u001b[43m    \u001b[49m\u001b[43mhyperparameter_combinations\u001b[49m\u001b[43m,\u001b[49m\n\u001b[1;32m   1090\u001b[0m \u001b[43m    \u001b[49m\u001b[43mtrain_set\u001b[49m\u001b[43m,\u001b[49m\n\u001b[1;32m   1091\u001b[0m \u001b[43m    \u001b[49m\u001b[43msenses\u001b[49m\u001b[43m,\u001b[49m\n\u001b[1;32m   1092\u001b[0m \u001b[43m    \u001b[49m\u001b[43mscores\u001b[49m\u001b[43m,\u001b[49m\n\u001b[1;32m   1093\u001b[0m \u001b[43m    \u001b[49m\u001b[43mget_clusters\u001b[49m\u001b[43m,\u001b[49m\n\u001b[1;32m   1094\u001b[0m \u001b[43m    \u001b[49m\u001b[43mmethod\u001b[49m\u001b[43m,\u001b[49m\n\u001b[1;32m   1095\u001b[0m \u001b[43m    \u001b[49m\u001b[43mmax_n_clusters\u001b[49m\u001b[43m,\u001b[49m\n\u001b[1;32m   1096\u001b[0m \u001b[43m    \u001b[49m\u001b[43mextra_information\u001b[49m\u001b[38;5;241;43m.\u001b[39;49m\u001b[43mcopy\u001b[49m\u001b[43m(\u001b[49m\u001b[43m)\u001b[49m\u001b[43m,\u001b[49m\n\u001b[1;32m   1097\u001b[0m \u001b[43m\u001b[49m\u001b[43m)\u001b[49m\n\u001b[1;32m   1098\u001b[0m \u001b[38;5;28;01mif\u001b[39;00m method \u001b[38;5;241m!=\u001b[39m \u001b[38;5;124m\"\u001b[39m\u001b[38;5;124mspectral_clustering\u001b[39m\u001b[38;5;124m\"\u001b[39m:\n\u001b[1;32m   1099\u001b[0m     train_ari, best_train_parameters \u001b[38;5;241m=\u001b[39m results[\u001b[38;5;124m\"\u001b[39m\u001b[38;5;124mari\u001b[39m\u001b[38;5;124m\"\u001b[39m]\n",
      "File \u001b[0;32m~/projects/wsi-lscd-experiments-cv/base_code/common_new_functionalities.py:783\u001b[0m, in \u001b[0;36mtrain\u001b[0;34m(hyperparameter_combinations, train_set, senses, scores, get_clusters, method, max_n_clusters, extra_information)\u001b[0m\n\u001b[1;32m    781\u001b[0m n \u001b[38;5;241m=\u001b[39m \u001b[38;5;28mlen\u001b[39m(hyperparameter_combinations)\n\u001b[1;32m    782\u001b[0m generate_results \u001b[38;5;241m=\u001b[39m Factory(method)\n\u001b[0;32m--> 783\u001b[0m \u001b[43mgenerate_results\u001b[49m\u001b[38;5;241;43m.\u001b[39;49m\u001b[43mload_cache\u001b[49m(\n\u001b[1;32m    784\u001b[0m     \u001b[38;5;124mf\u001b[39m\u001b[38;5;124m\"\u001b[39m\u001b[38;5;132;01m{\u001b[39;00mextra_information[\u001b[38;5;124m'\u001b[39m\u001b[38;5;124mpath_file\u001b[39m\u001b[38;5;124m'\u001b[39m]\u001b[38;5;241m.\u001b[39mformat(kfold\u001b[38;5;241m=\u001b[39mextra_information[\u001b[38;5;124m'\u001b[39m\u001b[38;5;124mkfold\u001b[39m\u001b[38;5;124m'\u001b[39m])\u001b[38;5;132;01m}\u001b[39;00m\u001b[38;5;124m/\u001b[39m\u001b[38;5;132;01m{\u001b[39;00mextra_information[\u001b[38;5;124m'\u001b[39m\u001b[38;5;124mname_file\u001b[39m\u001b[38;5;124m'\u001b[39m]\u001b[38;5;132;01m}\u001b[39;00m\u001b[38;5;124m\"\u001b[39m\n\u001b[1;32m    785\u001b[0m )\n\u001b[1;32m    786\u001b[0m \u001b[38;5;28;01mfor\u001b[39;00m index, hyperparameters \u001b[38;5;129;01min\u001b[39;00m \u001b[38;5;28menumerate\u001b[39m(hyperparameter_combinations):\n\u001b[1;32m    787\u001b[0m     \u001b[38;5;28mprint\u001b[39m(\n\u001b[1;32m    788\u001b[0m         \u001b[38;5;124mf\u001b[39m\u001b[38;5;124m\"\u001b[39m\u001b[38;5;124mFold \u001b[39m\u001b[38;5;132;01m{\u001b[39;00mextra_information[\u001b[38;5;124m'\u001b[39m\u001b[38;5;124mkfold\u001b[39m\u001b[38;5;124m'\u001b[39m]\u001b[38;5;132;01m}\u001b[39;00m\u001b[38;5;124m - Processed \u001b[39m\u001b[38;5;132;01m{\u001b[39;00mindex\u001b[38;5;250m \u001b[39m\u001b[38;5;241m+\u001b[39m\u001b[38;5;250m \u001b[39m\u001b[38;5;241m1\u001b[39m\u001b[38;5;132;01m}\u001b[39;00m\u001b[38;5;124m/\u001b[39m\u001b[38;5;132;01m{\u001b[39;00mn\u001b[38;5;132;01m}\u001b[39;00m\u001b[38;5;124m parameters\u001b[39m\u001b[38;5;124m\"\u001b[39m\n\u001b[1;32m    789\u001b[0m     )\n",
      "\u001b[0;31mAttributeError\u001b[0m: 'GenerateResultsSC' object has no attribute 'load_cache'"
     ]
    }
   ],
   "source": [
    "start_time = datetime.now()\n",
    "\n",
    "\n",
    "grid_search(\n",
    "    load_dwug_sense,\n",
    "    get_clusters,\n",
    "    model_hyperparameter_combinations,\n",
    "    \"spectral_clustering\",\n",
    "    max_number_clusters=5,\n",
    "    logger_message=None,\n",
    "    cache=path_to_experiments[is_cross_validation],\n",
    "    run_experiments=1,\n",
    "    dataset=\"dwug_data_annotated_only\",\n",
    "    is_cross_validation=is_cross_validation\n",
    ")\n",
    "\n",
    "print(f\"Elapsed time: {datetime.now() - start_time}\")"
   ]
  }
 ],
 "metadata": {
  "kernelspec": {
   "display_name": "Python 3 (ipykernel)",
   "language": "python",
   "name": "python3"
  },
  "language_info": {
   "codemirror_mode": {
    "name": "ipython",
    "version": 3
   },
   "file_extension": ".py",
   "mimetype": "text/x-python",
   "name": "python",
   "nbconvert_exporter": "python",
   "pygments_lexer": "ipython3",
   "version": "3.10.9"
  }
 },
 "nbformat": 4,
 "nbformat_minor": 4
}
