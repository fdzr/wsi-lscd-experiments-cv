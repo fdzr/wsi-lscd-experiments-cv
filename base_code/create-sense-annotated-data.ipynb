{
 "cells": [
  {
   "cell_type": "code",
   "execution_count": 9,
   "metadata": {},
   "outputs": [],
   "source": [
    "from pathlib import Path\n",
    "import unicodedata\n",
    "\n",
    "import pandas as pd"
   ]
  },
  {
   "cell_type": "code",
   "execution_count": 10,
   "metadata": {},
   "outputs": [],
   "source": [
    "target_words_spanish = pd.read_csv(\"../test_data_es.csv\", sep=\"\\t\").word.tolist()\n",
    "path_to_data = \"../{dataset}/clusters/opt\""
   ]
  },
  {
   "cell_type": "code",
   "execution_count": 20,
   "metadata": {},
   "outputs": [
    {
     "data": {
      "text/plain": [
       "['actitud',\n",
       " 'ataque',\n",
       " 'atrás',\n",
       " 'ausencia',\n",
       " 'avance',\n",
       " 'banco',\n",
       " 'canal',\n",
       " 'capital',\n",
       " 'cobrar',\n",
       " 'colaborar',\n",
       " 'cólera',\n",
       " 'compasión',\n",
       " 'copiar',\n",
       " 'corriente',\n",
       " 'declinar',\n",
       " 'demá',\n",
       " 'diligencia',\n",
       " 'disco',\n",
       " 'distribuir',\n",
       " 'educado',\n",
       " 'elocuente',\n",
       " 'encargado',\n",
       " 'enterar',\n",
       " 'especulación',\n",
       " 'fallar',\n",
       " 'fallecimiento',\n",
       " 'historia',\n",
       " 'historiador',\n",
       " 'impulso',\n",
       " 'indicativo',\n",
       " 'juguete',\n",
       " 'maduro',\n",
       " 'maravilloso',\n",
       " 'marco',\n",
       " 'matiz',\n",
       " 'médula',\n",
       " 'metal',\n",
       " 'metro',\n",
       " 'modificado',\n",
       " 'nombrar',\n",
       " 'pendiente',\n",
       " 'pila',\n",
       " 'planta',\n",
       " 'prima',\n",
       " 'propiamente',\n",
       " 'próximo',\n",
       " 'recomendar',\n",
       " 'recordar',\n",
       " 'retroceder',\n",
       " 'satélite',\n",
       " 'socialista',\n",
       " 'solicitud',\n",
       " 'susceptible',\n",
       " 'tarea',\n",
       " 'trato',\n",
       " 'tropical',\n",
       " 'variedad',\n",
       " 'viernes',\n",
       " 'visita',\n",
       " 'vuestro']"
      ]
     },
     "execution_count": 20,
     "metadata": {},
     "output_type": "execute_result"
    }
   ],
   "source": [
    "target_words_spanish"
   ]
  },
  {
   "cell_type": "code",
   "execution_count": 21,
   "metadata": {},
   "outputs": [],
   "source": [
    "p = path_to_data.format(dataset=\"dwug_es\")"
   ]
  },
  {
   "cell_type": "code",
   "execution_count": 22,
   "metadata": {},
   "outputs": [],
   "source": [
    "sense_all_data = []\n",
    "\n",
    "for tw in target_words_spanish:\n",
    "    word_t = unicodedata.normalize(\"NFC\", tw)\n",
    "\n",
    "    data = pd.read_csv(f\"{p}/{word_t}.csv\", sep=\"\\t\")\n",
    "    data[\"word\"] = tw\n",
    "    sense_all_data.append(data)"
   ]
  },
  {
   "cell_type": "code",
   "execution_count": 23,
   "metadata": {},
   "outputs": [
    {
     "name": "stdout",
     "output_type": "stream",
     "text": [
      "(2400, 3)\n"
     ]
    }
   ],
   "source": [
    "data = pd.concat(sense_all_data, axis=0)\n",
    "print(data.shape)"
   ]
  },
  {
   "cell_type": "code",
   "execution_count": 24,
   "metadata": {},
   "outputs": [
    {
     "name": "stdout",
     "output_type": "stream",
     "text": [
      "(2395, 3)\n"
     ]
    }
   ],
   "source": [
    "df = data.drop_duplicates(subset=\"identifier\")\n",
    "len(df[\"identifier\"].unique())\n",
    "\n",
    "df = df[df[\"cluster\"] != -1]\n",
    "print(df.shape)\n",
    "\n",
    "df.to_csv(\"../dwug_es_sense.csv\", sep=\"\\t\")"
   ]
  },
  {
   "cell_type": "code",
   "execution_count": 7,
   "metadata": {},
   "outputs": [
    {
     "data": {
      "text/plain": [
       "['attack_nn',\n",
       " 'bag_nn',\n",
       " 'ball_nn',\n",
       " 'bit_nn',\n",
       " 'chairman_nn',\n",
       " 'circle_vb',\n",
       " 'contemplation_nn',\n",
       " 'donkey_nn',\n",
       " 'edge_nn',\n",
       " 'face_nn',\n",
       " 'fiction_nn',\n",
       " 'gas_nn',\n",
       " 'graft_nn',\n",
       " 'head_nn',\n",
       " 'land_nn',\n",
       " 'lane_nn',\n",
       " 'lass_nn',\n",
       " 'multitude_nn',\n",
       " 'ounce_nn',\n",
       " 'part_nn',\n",
       " 'pin_vb',\n",
       " 'plane_nn',\n",
       " 'player_nn',\n",
       " 'prop_nn',\n",
       " 'quilt_nn',\n",
       " 'rag_nn',\n",
       " 'record_nn',\n",
       " 'relationship_nn',\n",
       " 'risk_nn',\n",
       " 'savage_nn',\n",
       " 'stab_nn',\n",
       " 'stroke_vb',\n",
       " 'thump_nn',\n",
       " 'tip_vb',\n",
       " 'tree_nn',\n",
       " 'twist_nn',\n",
       " 'word_nn']"
      ]
     },
     "execution_count": 7,
     "metadata": {},
     "output_type": "execute_result"
    }
   ],
   "source": [
    "target_words_english = open(\"../dwug_en/target_words.txt\", \"r\").read().split(\"\\n\")\n",
    "target_words_english"
   ]
  },
  {
   "cell_type": "code",
   "execution_count": 12,
   "metadata": {},
   "outputs": [],
   "source": [
    "p = path_to_data.format(dataset=\"dwug_en\")"
   ]
  },
  {
   "cell_type": "code",
   "execution_count": 13,
   "metadata": {},
   "outputs": [],
   "source": [
    "sense_all_data = []\n",
    "\n",
    "for tw in target_words_english:\n",
    "    word_t = unicodedata.normalize(\"NFC\", tw)\n",
    "\n",
    "    data = pd.read_csv(f\"{p}/{word_t}.csv\", sep=\"\\t\")\n",
    "    data[\"word\"] = tw\n",
    "    sense_all_data.append(data)"
   ]
  },
  {
   "cell_type": "code",
   "execution_count": 14,
   "metadata": {},
   "outputs": [
    {
     "name": "stdout",
     "output_type": "stream",
     "text": [
      "(7381, 3)\n"
     ]
    }
   ],
   "source": [
    "data = pd.concat(sense_all_data, axis=0)\n",
    "print(data.shape)"
   ]
  },
  {
   "cell_type": "code",
   "execution_count": 15,
   "metadata": {},
   "outputs": [
    {
     "data": {
      "text/plain": [
       "Index(['identifier', 'cluster', 'word'], dtype='object')"
      ]
     },
     "execution_count": 15,
     "metadata": {},
     "output_type": "execute_result"
    }
   ],
   "source": [
    "data.columns"
   ]
  },
  {
   "cell_type": "code",
   "execution_count": 16,
   "metadata": {},
   "outputs": [
    {
     "name": "stdout",
     "output_type": "stream",
     "text": [
      "(7177, 3)\n"
     ]
    }
   ],
   "source": [
    "df = data.drop_duplicates(subset=\"identifier\")\n",
    "len(df[\"identifier\"].unique())\n",
    "\n",
    "df = df[df[\"cluster\"] != -1]\n",
    "print(df.shape)\n",
    "\n",
    "df.to_csv(\"../dwug_en_sense.csv\", sep=\"\\t\")"
   ]
  }
 ],
 "metadata": {
  "kernelspec": {
   "display_name": "ex",
   "language": "python",
   "name": "python3"
  },
  "language_info": {
   "codemirror_mode": {
    "name": "ipython",
    "version": 3
   },
   "file_extension": ".py",
   "mimetype": "text/x-python",
   "name": "python",
   "nbconvert_exporter": "python",
   "pygments_lexer": "ipython3",
   "version": "3.10.9"
  }
 },
 "nbformat": 4,
 "nbformat_minor": 2
}
