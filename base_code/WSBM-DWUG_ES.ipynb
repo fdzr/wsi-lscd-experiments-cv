{
 "cells": [
  {
   "cell_type": "code",
   "execution_count": 1,
   "metadata": {},
   "outputs": [],
   "source": [
    "from datetime import datetime\n",
    "import functools as f\n",
    "from itertools import product\n",
    "\n",
    "from numpy.typing import NDArray\n",
    "import numpy as np\n",
    "\n",
    "from common_generate_predictions import load_data, grid_search_without_nclusters\n",
    "import clustering"
   ]
  },
  {
   "cell_type": "code",
   "execution_count": 2,
   "metadata": {},
   "outputs": [],
   "source": [
    "wic_data = False\n",
    "method = \"wsbm\"\n",
    "llm = \"xl-lexeme\"\n",
    "dataset = \"dwug_en\"\n",
    "path_to_data = f\"../input/{llm}/{dataset}\"\n",
    "path_to_gold_data = \"../test_data_en.csv\"\n",
    "score_paths = [\"wic1\"]"
   ]
  },
  {
   "cell_type": "code",
   "execution_count": 3,
   "metadata": {},
   "outputs": [],
   "source": [
    "def get_clusters(adj_matrix: NDArray[np.float64 | np.int32], hyperparameters: dict):\n",
    "    graph = clustering._adjacency_matrix_to_nxgraph(\n",
    "        adj_matrix, use_disconnected_edges=False\n",
    "    )\n",
    "    clusters = clustering.wsbm_clustering(graph, **hyperparameters)\n",
    "\n",
    "    return clustering._convert_graph_cluster_list_set_to_list(graph, clusters)"
   ]
  },
  {
   "cell_type": "code",
   "execution_count": 4,
   "metadata": {},
   "outputs": [],
   "source": [
    "model_hyperparameter_combinations = []\n",
    "distributions = [\n",
    "    \"discrete-geometric\",\n",
    "    \"discrete-poisson\",\n",
    "    \"discrete-binomial\",\n",
    "    \"real-normal\",\n",
    "    \"real-exponential\",\n",
    "]\n",
    "\n",
    "for distribution in distributions:\n",
    "    model_hyperparameter_combinations.append({\"distribution\": distribution})"
   ]
  },
  {
   "cell_type": "code",
   "execution_count": 5,
   "metadata": {},
   "outputs": [],
   "source": [
    "quantile = range(0, 7)\n",
    "fill_diagonal = [True, False]\n",
    "normalize = [True, False]\n",
    "hc = product(\n",
    "    quantile, fill_diagonal, normalize, score_paths, model_hyperparameter_combinations\n",
    ")\n",
    "\n",
    "hyperparameter_combinations = [\n",
    "    {\n",
    "        \"quantile\": q,\n",
    "        \"fill_diagonal\": fd,\n",
    "        \"normalize\": nm,\n",
    "        \"prompt\": sp,\n",
    "        \"model_hyperparameters\": mhc,\n",
    "    }\n",
    "    for q, fd, nm, sp, mhc in hc\n",
    "    if (mhc[\"distribution\"].startswith(\"real\") and nm is True)\n",
    "    or (mhc[\"distribution\"].startswith(\"discrete\") and nm is False)\n",
    "]"
   ]
  },
  {
   "cell_type": "code",
   "execution_count": null,
   "metadata": {},
   "outputs": [],
   "source": [
    "print(len(hyperparameter_combinations))\n",
    "print(hyperparameter_combinations)"
   ]
  },
  {
   "cell_type": "code",
   "execution_count": 7,
   "metadata": {},
   "outputs": [],
   "source": [
    "metadata = {\n",
    "    \"fill_diagonal\": True,\n",
    "    \"normalize\": False,\n",
    "    \"method\": method,\n",
    "    \"path_to_gold_data\": path_to_gold_data,\n",
    "    \"path_to_data\": path_to_data,\n",
    "    \"path_to_sense_data\": \"../dwug_en_sense.csv\",\n",
    "    \"llm\": llm,\n",
    "    \"score_paths\": score_paths,\n",
    "    \"dataset\": dataset,\n",
    "    \"wic_data\": wic_data,\n",
    "    \"path_to_save_results\": f\"../cv-experiments-lscd-ari-dwug-cleaned/{method}/{llm}/{dataset}\",\n",
    "}"
   ]
  },
  {
   "cell_type": "code",
   "execution_count": null,
   "metadata": {},
   "outputs": [],
   "source": [
    "start_time = datetime.now()\n",
    "\n",
    "grid_search_without_nclusters(\n",
    "    f.partial(load_data, path_to_data),\n",
    "    get_clusters,\n",
    "    hyperparameter_combinations,\n",
    "    metadata=metadata,\n",
    ")\n",
    "\n",
    "print(f\"Elapsed time: {datetime.now() - start_time}\")"
   ]
  }
 ],
 "metadata": {
  "kernelspec": {
   "display_name": "ex",
   "language": "python",
   "name": "python3"
  },
  "language_info": {
   "codemirror_mode": {
    "name": "ipython",
    "version": 3
   },
   "file_extension": ".py",
   "mimetype": "text/x-python",
   "name": "python",
   "nbconvert_exporter": "python",
   "pygments_lexer": "ipython3",
   "version": "3.10.9"
  }
 },
 "nbformat": 4,
 "nbformat_minor": 2
}
