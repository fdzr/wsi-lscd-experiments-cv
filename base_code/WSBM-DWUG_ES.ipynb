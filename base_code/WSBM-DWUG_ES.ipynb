{
 "cells": [
  {
   "cell_type": "code",
   "execution_count": 1,
   "metadata": {},
   "outputs": [],
   "source": [
    "from datetime import datetime\n",
    "import functools as f\n",
    "from itertools import product\n",
    "\n",
    "from numpy.typing import NDArray\n",
    "import numpy as np\n",
    "\n",
    "from common_generate_predictions import load_data, grid_search_without_nclusters\n",
    "import clustering"
   ]
  },
  {
   "cell_type": "code",
   "execution_count": 2,
   "metadata": {},
   "outputs": [],
   "source": [
    "wic_data = False\n",
    "method = \"wsbm\"\n",
    "llm = \"llama3.1-8B\"\n",
    "dataset = \"dwug_es\"\n",
    "path_to_data = f\"../input/llama3.1-8B/{dataset}\"\n",
    "path_to_gold_data = \"../test_data_es.csv\"\n",
    "score_paths = [\"zs\", \"fs\", \"ct\"]"
   ]
  },
  {
   "cell_type": "code",
   "execution_count": 3,
   "metadata": {},
   "outputs": [],
   "source": [
    "def get_clusters(adj_matrix: NDArray[np.float64 | np.int32], hyperparameters: dict):\n",
    "    graph = clustering._adjacency_matrix_to_nxgraph(\n",
    "        adj_matrix, use_disconnected_edges=False\n",
    "    )\n",
    "    clusters = clustering.wsbm_clustering(graph, **hyperparameters)\n",
    "\n",
    "    return clustering._convert_graph_cluster_list_set_to_list(graph, clusters)"
   ]
  },
  {
   "cell_type": "code",
   "execution_count": 4,
   "metadata": {},
   "outputs": [],
   "source": [
    "model_hyperparameter_combinations = []\n",
    "distributions = [\n",
    "    \"discrete-geometric\",\n",
    "    \"discrete-poisson\",\n",
    "    \"discrete-binomial\",\n",
    "    \"real-normal\",\n",
    "    \"real-exponential\",\n",
    "]\n",
    "\n",
    "for distribution in distributions:\n",
    "    model_hyperparameter_combinations.append({\"distribution\": distribution})"
   ]
  },
  {
   "cell_type": "code",
   "execution_count": 5,
   "metadata": {},
   "outputs": [],
   "source": [
    "fill_diagonal = [True, False]\n",
    "normalize = [True, False]\n",
    "hc = product(fill_diagonal, normalize, score_paths, model_hyperparameter_combinations)\n",
    "\n",
    "hyperparameter_combinations = [\n",
    "    {\"fill_diagonal\": fd, \"normalize\": nm, \"prompt\": sp, \"model_hyperparameters\": mhc}\n",
    "    for fd, nm, sp, mhc in hc\n",
    "    if (mhc[\"distribution\"].startswith(\"real\") and nm is True)\n",
    "    or (mhc[\"distribution\"].startswith(\"discrete\") and nm is False)\n",
    "]"
   ]
  },
  {
   "cell_type": "code",
   "execution_count": 6,
   "metadata": {},
   "outputs": [],
   "source": [
    "metadata = {\n",
    "    \"fill_diagonal\": True,\n",
    "    \"normalize\": True,\n",
    "    \"method\": method,\n",
    "    \"path_to_gold_data\": path_to_gold_data,\n",
    "    \"path_to_data\": path_to_data,\n",
    "    \"llm\": llm,\n",
    "    \"score_paths\": score_paths,\n",
    "    \"dataset\": dataset,\n",
    "    \"wic_data\": wic_data,\n",
    "    \"path_to_save_results\": f\"../cv-experiments-lscd-all-hyperparameter/{method}/{llm}/{dataset}\",\n",
    "}"
   ]
  },
  {
   "cell_type": "code",
   "execution_count": 7,
   "metadata": {},
   "outputs": [
    {
     "ename": "KeyError",
     "evalue": "'score_paths'",
     "output_type": "error",
     "traceback": [
      "\u001b[0;31m---------------------------------------------------------------------------\u001b[0m",
      "\u001b[0;31mKeyError\u001b[0m                                  Traceback (most recent call last)",
      "Cell \u001b[0;32mIn[7], line 3\u001b[0m\n\u001b[1;32m      1\u001b[0m start_time \u001b[38;5;241m=\u001b[39m datetime\u001b[38;5;241m.\u001b[39mnow()\n\u001b[0;32m----> 3\u001b[0m \u001b[43mgrid_search_without_nclusters\u001b[49m\u001b[43m(\u001b[49m\n\u001b[1;32m      4\u001b[0m \u001b[43m    \u001b[49m\u001b[43mf\u001b[49m\u001b[38;5;241;43m.\u001b[39;49m\u001b[43mpartial\u001b[49m\u001b[43m(\u001b[49m\u001b[43mload_data\u001b[49m\u001b[43m,\u001b[49m\u001b[43m \u001b[49m\u001b[43mpath_to_data\u001b[49m\u001b[43m)\u001b[49m\u001b[43m,\u001b[49m\n\u001b[1;32m      5\u001b[0m \u001b[43m    \u001b[49m\u001b[43mget_clusters\u001b[49m\u001b[43m,\u001b[49m\n\u001b[1;32m      6\u001b[0m \u001b[43m    \u001b[49m\u001b[43mhyperparameter_combinations\u001b[49m\u001b[43m,\u001b[49m\n\u001b[1;32m      7\u001b[0m \u001b[43m    \u001b[49m\u001b[43mmetadata\u001b[49m\u001b[38;5;241;43m=\u001b[39;49m\u001b[43mmetadata\u001b[49m\u001b[43m,\u001b[49m\n\u001b[1;32m      8\u001b[0m \u001b[43m)\u001b[49m\n\u001b[1;32m     10\u001b[0m \u001b[38;5;28mprint\u001b[39m(\u001b[38;5;124mf\u001b[39m\u001b[38;5;124m\"\u001b[39m\u001b[38;5;124mElapsed time: \u001b[39m\u001b[38;5;132;01m{\u001b[39;00mdatetime\u001b[38;5;241m.\u001b[39mnow()\u001b[38;5;250m \u001b[39m\u001b[38;5;241m-\u001b[39m\u001b[38;5;250m \u001b[39mstart_time\u001b[38;5;132;01m}\u001b[39;00m\u001b[38;5;124m\"\u001b[39m)\n",
      "File \u001b[0;32m~/projects/wsi-lscd-experiments-cv/base_code/common_generate_predictions.py:558\u001b[0m, in \u001b[0;36mgrid_search_without_nclusters\u001b[0;34m(get_data, get_clusters, hyperparameter_combinations, metadata)\u001b[0m\n\u001b[1;32m    550\u001b[0m \u001b[38;5;28;01mdef\u001b[39;00m \u001b[38;5;21mgrid_search_without_nclusters\u001b[39m(\n\u001b[1;32m    551\u001b[0m     get_data: typing\u001b[38;5;241m.\u001b[39mCallable,\n\u001b[1;32m    552\u001b[0m     get_clusters: typing\u001b[38;5;241m.\u001b[39mCallable,\n\u001b[0;32m   (...)\u001b[0m\n\u001b[1;32m    555\u001b[0m ):\n\u001b[1;32m    556\u001b[0m     \u001b[38;5;66;03m# scores = get_data()\u001b[39;00m\n\u001b[1;32m    557\u001b[0m     scores \u001b[38;5;241m=\u001b[39m {}\n\u001b[0;32m--> 558\u001b[0m     \u001b[38;5;28;01mfor\u001b[39;00m sp \u001b[38;5;129;01min\u001b[39;00m \u001b[43mmetadata\u001b[49m\u001b[43m[\u001b[49m\u001b[38;5;124;43m\"\u001b[39;49m\u001b[38;5;124;43mscore_paths\u001b[39;49m\u001b[38;5;124;43m\"\u001b[39;49m\u001b[43m]\u001b[49m:\n\u001b[1;32m    559\u001b[0m         scores[sp] \u001b[38;5;241m=\u001b[39m load_data(\n\u001b[1;32m    560\u001b[0m             \u001b[38;5;124mf\u001b[39m\u001b[38;5;124m\"\u001b[39m\u001b[38;5;132;01m{\u001b[39;00mmetadata[\u001b[38;5;124m'\u001b[39m\u001b[38;5;124mpath_to_data\u001b[39m\u001b[38;5;124m'\u001b[39m]\u001b[38;5;132;01m}\u001b[39;00m\u001b[38;5;124m/\u001b[39m\u001b[38;5;132;01m{\u001b[39;00msp\u001b[38;5;132;01m}\u001b[39;00m\u001b[38;5;124m\"\u001b[39m, wic_data\u001b[38;5;241m=\u001b[39mmetadata[\u001b[38;5;124m\"\u001b[39m\u001b[38;5;124mwic_data\u001b[39m\u001b[38;5;124m\"\u001b[39m]\n\u001b[1;32m    561\u001b[0m         )\n\u001b[1;32m    563\u001b[0m     \u001b[38;5;28;01mif\u001b[39;00m metadata[\u001b[38;5;124m\"\u001b[39m\u001b[38;5;124mdataset\u001b[39m\u001b[38;5;124m\"\u001b[39m] \u001b[38;5;241m==\u001b[39m \u001b[38;5;124m\"\u001b[39m\u001b[38;5;124mdwug_en\u001b[39m\u001b[38;5;124m\"\u001b[39m:\n",
      "\u001b[0;31mKeyError\u001b[0m: 'score_paths'"
     ]
    }
   ],
   "source": [
    "start_time = datetime.now()\n",
    "\n",
    "grid_search_without_nclusters(\n",
    "    f.partial(load_data, path_to_data),\n",
    "    get_clusters,\n",
    "    hyperparameter_combinations,\n",
    "    metadata=metadata,\n",
    ")\n",
    "\n",
    "print(f\"Elapsed time: {datetime.now() - start_time}\")"
   ]
  }
 ],
 "metadata": {
  "kernelspec": {
   "display_name": "ex",
   "language": "python",
   "name": "python3"
  },
  "language_info": {
   "codemirror_mode": {
    "name": "ipython",
    "version": 3
   },
   "file_extension": ".py",
   "mimetype": "text/x-python",
   "name": "python",
   "nbconvert_exporter": "python",
   "pygments_lexer": "ipython3",
   "version": "3.10.9"
  }
 },
 "nbformat": 4,
 "nbformat_minor": 2
}
