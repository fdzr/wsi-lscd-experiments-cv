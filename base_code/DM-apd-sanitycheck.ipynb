{
 "cells": [
  {
   "cell_type": "code",
   "execution_count": 1,
   "metadata": {},
   "outputs": [],
   "source": [
    "from pathlib import Path\n",
    "import sys\n",
    "\n",
    "import pandas as pd\n",
    "import numpy as np\n",
    "\n",
    "from common_generate_predictions import (\n",
    "    load_data,\n",
    "    calculate_correlation,\n",
    "    save_cv_results,\n",
    "    save_correlation\n",
    ")\n",
    "from custom_types import Results\n",
    "from cross_validation import cross_validation_for_dwug_es as cv"
   ]
  },
  {
   "cell_type": "code",
   "execution_count": 2,
   "metadata": {},
   "outputs": [],
   "source": [
    "import seaborn as sns"
   ]
  },
  {
   "cell_type": "code",
   "execution_count": 3,
   "metadata": {},
   "outputs": [],
   "source": [
    "def load_scores(llm: str, dataset: str, prompts: list, wic_data: bool = False):\n",
    "    scores = {}\n",
    "\n",
    "    for p in prompts:\n",
    "        path_to_data = Path(f\"{path_data}/{llm}/{dataset}/{p}\")\n",
    "\n",
    "        if wic_data is False:\n",
    "            assert path_to_data.exists() is True, f\"{path_to_data} does not exist\"\n",
    "\n",
    "        scores[p] = load_data(path_to_data, wic_data)\n",
    "\n",
    "    return scores"
   ]
  },
  {
   "cell_type": "markdown",
   "metadata": {},
   "source": [
    "# Wic2, DWUG_ES"
   ]
  },
  {
   "cell_type": "code",
   "execution_count": 4,
   "metadata": {},
   "outputs": [
    {
     "name": "stderr",
     "output_type": "stream",
     "text": [
      "2024-09-16 19:46:06,659 - INFO - loading data from ../input/wic-scores/dwug_en/wic2 ...\n"
     ]
    }
   ],
   "source": [
    "lang = 'en'\n",
    "data = load_data(f'../input/wic-scores/dwug_{lang}/wic2', wic_data=True)\n",
    "# APD: average pairwise scores for each word, multiply by -1 to convert similarities to \"distances\"\n",
    "pdf = -data.groupby('word').score.mean()\n",
    "# pdf"
   ]
  },
  {
   "cell_type": "code",
   "execution_count": 5,
   "metadata": {},
   "outputs": [],
   "source": [
    "gdf = pd.read_csv(f'../test_data_{lang}.csv', sep='\\t')\n",
    "if 'word' not in gdf.columns:\n",
    "    gdf['word']=gdf.lemma\n",
    "gdf = gdf.set_index('word')\n",
    "# gdf"
   ]
  },
  {
   "cell_type": "code",
   "execution_count": 7,
   "metadata": {},
   "outputs": [
    {
     "data": {
      "text/html": [
       "<div>\n",
       "<style scoped>\n",
       "    .dataframe tbody tr th:only-of-type {\n",
       "        vertical-align: middle;\n",
       "    }\n",
       "\n",
       "    .dataframe tbody tr th {\n",
       "        vertical-align: top;\n",
       "    }\n",
       "\n",
       "    .dataframe thead th {\n",
       "        text-align: right;\n",
       "    }\n",
       "</style>\n",
       "<table border=\"1\" class=\"dataframe\">\n",
       "  <thead>\n",
       "    <tr style=\"text-align: right;\">\n",
       "      <th></th>\n",
       "      <th>change_graded</th>\n",
       "      <th>pred</th>\n",
       "    </tr>\n",
       "  </thead>\n",
       "  <tbody>\n",
       "    <tr>\n",
       "      <th>change_graded</th>\n",
       "      <td>1.000000</td>\n",
       "      <td>0.782381</td>\n",
       "    </tr>\n",
       "    <tr>\n",
       "      <th>pred</th>\n",
       "      <td>0.782381</td>\n",
       "      <td>1.000000</td>\n",
       "    </tr>\n",
       "  </tbody>\n",
       "</table>\n",
       "</div>"
      ],
      "text/plain": [
       "               change_graded      pred\n",
       "change_graded       1.000000  0.782381\n",
       "pred                0.782381  1.000000"
      ]
     },
     "execution_count": 7,
     "metadata": {},
     "output_type": "execute_result"
    }
   ],
   "source": [
    "gdf['pred'] = pdf\n",
    "\n",
    "gdf[[c for c in gdf.columns if c in {'change_graded','COMPARE','pred'}]].corr(method='spearman')"
   ]
  },
  {
   "cell_type": "code",
   "execution_count": 8,
   "metadata": {},
   "outputs": [
    {
     "name": "stdout",
     "output_type": "stream",
     "text": [
      "0.7823807477118616\n"
     ]
    }
   ],
   "source": [
    "from scipy.stats import spearmanr\n",
    "spr_lscd = spearmanr(gdf.pred, gdf.change_graded)[0]\n",
    "print(spr_lscd)"
   ]
  },
  {
   "cell_type": "code",
   "execution_count": 10,
   "metadata": {},
   "outputs": [
    {
     "name": "stdout",
     "output_type": "stream",
     "text": [
      "37\n",
      "Words absent in CV: {'afternoon_nn', 'chef_nn', 'heel_nn', 'rally_nn', 'pick_vb', 'bar_nn', 'maxim_nn', 'grain_nn', 'include_vb'}\n",
      "Wrods absent  in the gold data: set()\n"
     ]
    }
   ],
   "source": [
    "cv_words = sorted([x for l in cv[f'dwug_{lang}'][1].values() for x in l])\n",
    "assert all(cv_words == sorted([x for l in cv[f'dwug_{lang}'][fold].values() for x in l]) for fold in range(2,6))\n",
    "print(len(cv_words))\n",
    "if sorted(gdf.index)!=cv_words:\n",
    "    print('Words absent in CV:', set(gdf.index).difference(cv_words))\n",
    "    print('Wrods absent  in the gold data:', set(cv_words).difference(gdf.index))"
   ]
  },
  {
   "cell_type": "code",
   "execution_count": 13,
   "metadata": {},
   "outputs": [
    {
     "name": "stdout",
     "output_type": "stream",
     "text": [
      "0.7823807477118616 0.80768320980914\n"
     ]
    }
   ],
   "source": [
    "from scipy.stats import spearmanr\n",
    "gdf1 = gdf[gdf.index.isin(cv_words)]\n",
    "print(spearmanr(gdf.pred, gdf.change_graded)[0], spearmanr(gdf1.pred, gdf1.change_graded)[0])"
   ]
  },
  {
   "cell_type": "code",
   "execution_count": 15,
   "metadata": {},
   "outputs": [
    {
     "name": "stdout",
     "output_type": "stream",
     "text": [
      "count    50000.000000\n",
      "mean         0.750891\n",
      "std          0.186824\n",
      "min         -0.857143\n",
      "25%          0.666667\n",
      "50%          0.785714\n",
      "75%          0.892857\n",
      "max          1.000000\n",
      "dtype: float64\n",
      "count    10000.000000\n",
      "mean         0.750891\n",
      "std          0.061215\n",
      "min          0.413392\n",
      "25%          0.714286\n",
      "50%          0.757143\n",
      "75%          0.792857\n",
      "max          0.924397\n",
      "dtype: float64\n"
     ]
    },
    {
     "data": {
      "text/plain": [
       "<Axes: ylabel='Count'>"
      ]
     },
     "execution_count": 15,
     "metadata": {},
     "output_type": "execute_result"
    },
    {
     "data": {
      "image/png": "[encoded data removed]",
      "text/plain": [
       "<Figure size 640x480 with 1 Axes>"
      ]
     },
     "metadata": {},
     "output_type": "display_data"
    }
   ],
   "source": [
    "from sklearn.model_selection import KFold\n",
    "def bootstrap_cvscores(correction_fun=None):\n",
    "    scores, cv_scores = [], []\n",
    "    for seed in range(10000):\n",
    "        kf = KFold(n_splits=5, shuffle=True, random_state=seed)\n",
    "        fold_scores = []\n",
    "        for i, (train_index, test_index) in enumerate(kf.split(cv_words)):\n",
    "            test_words = [cv_words[i] for i in test_index]\n",
    "            sample = gdf[gdf.index.isin(test_words)]\n",
    "            spr_lscd = spearmanr(sample.pred, sample.change_graded)[0]\n",
    "            if correction_fun:\n",
    "                spr_lscd = correction_fun(spr_lscd, len(sample))\n",
    "            fold_scores.append(spr_lscd)\n",
    "        scores.extend(fold_scores)\n",
    "        cv_scores.append(np.mean(fold_scores))\n",
    "    print(pd.Series(scores).describe())\n",
    "    print(pd.Series(cv_scores).describe())\n",
    "    return scores, cv_scores\n",
    "\n",
    "scores, cv_scores = bootstrap_cvscores()\n",
    "sns.histplot(scores)\n",
    "sns.histplot(cv_scores)\n"
   ]
  },
  {
   "cell_type": "markdown",
   "metadata": {},
   "source": [
    "#### Spearman's correlation from 5-fold CV compared to the one on full dataset has:\n",
    "bias: 0.592 vs. 0.624: can be corrected\n",
    "\n",
    "variance: std: 0.05 => 95% CI is (0.5,0.7)"
   ]
  },
  {
   "cell_type": "code",
   "execution_count": 18,
   "metadata": {},
   "outputs": [
    {
     "name": "stdout",
     "output_type": "stream",
     "text": [
      "count    50000.000000\n",
      "mean         0.780567\n",
      "std          0.180897\n",
      "min         -0.885569\n",
      "25%          0.703704\n",
      "50%          0.823296\n",
      "75%          0.915492\n",
      "max          1.000000\n",
      "dtype: float64\n",
      "count    10000.000000\n",
      "mean         0.780567\n",
      "std          0.060165\n",
      "min          0.433086\n",
      "25%          0.746642\n",
      "50%          0.788015\n",
      "75%          0.822441\n",
      "max          0.939129\n",
      "dtype: float64\n"
     ]
    },
    {
     "data": {
      "text/plain": [
       "<Axes: ylabel='Count'>"
      ]
     },
     "execution_count": 18,
     "metadata": {},
     "output_type": "execute_result"
    },
    {
     "data": {
      "image/png": "[encoded data removed]",
      "text/plain": [
       "<Figure size 640x480 with 1 Axes>"
      ]
     },
     "metadata": {},
     "output_type": "display_data"
    }
   ],
   "source": [
    "# Bias in estimation of correlation: https://www.uv.es/revispsi/articulos1.03/9.ZUMBO.pdf\n",
    "def spearman_olkin_pratt_correction(r, n):\n",
    "    return r * (1 + (1-r**2)/(2*(n-3)))\n",
    "\n",
    "scores = bootstrap_cvscores(spearman_olkin_pratt_correction)\n",
    "sns.histplot(scores)"
   ]
  },
  {
   "cell_type": "code",
   "execution_count": 19,
   "metadata": {},
   "outputs": [
    {
     "name": "stdout",
     "output_type": "stream",
     "text": [
      "0.7823807477118616 0.7859094701591705\n"
     ]
    }
   ],
   "source": [
    "spr_lscd = spearmanr(gdf.pred, gdf.change_graded)[0]\n",
    "spr_corrected = spearman_olkin_pratt_correction(spr_lscd, len(gdf))\n",
    "print(spr_lscd, spr_corrected)"
   ]
  },
  {
   "cell_type": "markdown",
   "metadata": {},
   "source": [
    "# Check concrete folds"
   ]
  },
  {
   "cell_type": "code",
   "execution_count": 20,
   "metadata": {},
   "outputs": [
    {
     "name": "stdout",
     "output_type": "stream",
     "text": [
      "8\n",
      "SignificanceResult(statistic=0.5000000000000001, pvalue=0.20703124999999997)\n"
     ]
    },
    {
     "data": {
      "text/plain": [
       "<Axes: xlabel='change_graded', ylabel='pred'>"
      ]
     },
     "execution_count": 20,
     "metadata": {},
     "output_type": "execute_result"
    },
    {
     "data": {
      "image/png": "[encoded data removed]",
      "text/plain": [
       "<Figure size 640x480 with 1 Axes>"
      ]
     },
     "metadata": {},
     "output_type": "display_data"
    }
   ],
   "source": [
    "fold = 2\n",
    "test_words = cv[f'dwug_{lang}'][fold]['test']\n",
    "\n",
    "gdf['test'] = gdf.index.isin(test_words)\n",
    "print(gdf['test'].sum())\n",
    "print(spearmanr(gdf.query('test').change_graded, gdf.query('test').pred))\n",
    "sns.scatterplot(data=gdf, x='change_graded', y='pred', hue='test')"
   ]
  },
  {
   "cell_type": "code",
   "execution_count": null,
   "metadata": {},
   "outputs": [],
   "source": []
  },
  {
   "cell_type": "code",
   "execution_count": 84,
   "metadata": {},
   "outputs": [
    {
     "data": {
      "text/plain": [
       "0.6881893469394459"
      ]
     },
     "execution_count": 84,
     "metadata": {},
     "output_type": "execute_result"
    }
   ],
   "source": [
    "sample.corr('spearman')\n",
    "\n",
    "spr_lscd = spearmanr(sample.pred, sample.change_graded)[0]\n",
    "spr_lscd"
   ]
  },
  {
   "cell_type": "code",
   "execution_count": 18,
   "metadata": {},
   "outputs": [
    {
     "data": {
      "text/html": [
       "<div>\n",
       "<style scoped>\n",
       "    .dataframe tbody tr th:only-of-type {\n",
       "        vertical-align: middle;\n",
       "    }\n",
       "\n",
       "    .dataframe tbody tr th {\n",
       "        vertical-align: top;\n",
       "    }\n",
       "\n",
       "    .dataframe thead th {\n",
       "        text-align: right;\n",
       "    }\n",
       "</style>\n",
       "<table border=\"1\" class=\"dataframe\">\n",
       "  <thead>\n",
       "    <tr style=\"text-align: right;\">\n",
       "      <th></th>\n",
       "      <th>lemma</th>\n",
       "      <th>grouping</th>\n",
       "      <th>nodes</th>\n",
       "      <th>nodes1</th>\n",
       "      <th>nodes2</th>\n",
       "      <th>cluster_freq_dist</th>\n",
       "      <th>cluster_freq_dist1</th>\n",
       "      <th>cluster_freq_dist2</th>\n",
       "      <th>cluster_prob_dist</th>\n",
       "      <th>cluster_prob_dist1</th>\n",
       "      <th>cluster_prob_dist2</th>\n",
       "      <th>change_binary</th>\n",
       "      <th>change_binary_gain</th>\n",
       "      <th>change_binary_loss</th>\n",
       "      <th>change_graded</th>\n",
       "      <th>k1</th>\n",
       "      <th>n1</th>\n",
       "      <th>k2</th>\n",
       "      <th>n2</th>\n",
       "      <th>pred</th>\n",
       "    </tr>\n",
       "    <tr>\n",
       "      <th>word</th>\n",
       "      <th></th>\n",
       "      <th></th>\n",
       "      <th></th>\n",
       "      <th></th>\n",
       "      <th></th>\n",
       "      <th></th>\n",
       "      <th></th>\n",
       "      <th></th>\n",
       "      <th></th>\n",
       "      <th></th>\n",
       "      <th></th>\n",
       "      <th></th>\n",
       "      <th></th>\n",
       "      <th></th>\n",
       "      <th></th>\n",
       "      <th></th>\n",
       "      <th></th>\n",
       "      <th></th>\n",
       "      <th></th>\n",
       "      <th></th>\n",
       "    </tr>\n",
       "  </thead>\n",
       "  <tbody>\n",
       "    <tr>\n",
       "      <th>contemplation_nn</th>\n",
       "      <td>contemplation_nn</td>\n",
       "      <td>1_2</td>\n",
       "      <td>200</td>\n",
       "      <td>100</td>\n",
       "      <td>100</td>\n",
       "      <td>[199, 1]</td>\n",
       "      <td>[99, 1]</td>\n",
       "      <td>[100, 0]</td>\n",
       "      <td>[0.995, 0.005]</td>\n",
       "      <td>[0.99, 0.01]</td>\n",
       "      <td>[1.0, 0.0]</td>\n",
       "      <td>0</td>\n",
       "      <td>0</td>\n",
       "      <td>0</td>\n",
       "      <td>0.070839</td>\n",
       "      <td>1</td>\n",
       "      <td>5</td>\n",
       "      <td>1</td>\n",
       "      <td>5</td>\n",
       "      <td>-0.511388</td>\n",
       "    </tr>\n",
       "    <tr>\n",
       "      <th>donkey_nn</th>\n",
       "      <td>donkey_nn</td>\n",
       "      <td>1_2</td>\n",
       "      <td>200</td>\n",
       "      <td>100</td>\n",
       "      <td>100</td>\n",
       "      <td>[195, 1, 1]</td>\n",
       "      <td>[97, 1, 0]</td>\n",
       "      <td>[98, 0, 1]</td>\n",
       "      <td>[0.99, 0.005, 0.005]</td>\n",
       "      <td>[0.99, 0.01, 0.0]</td>\n",
       "      <td>[0.99, 0.0, 0.01]</td>\n",
       "      <td>0</td>\n",
       "      <td>0</td>\n",
       "      <td>0</td>\n",
       "      <td>0.100760</td>\n",
       "      <td>1</td>\n",
       "      <td>5</td>\n",
       "      <td>1</td>\n",
       "      <td>5</td>\n",
       "      <td>-0.518880</td>\n",
       "    </tr>\n",
       "    <tr>\n",
       "      <th>fiction_nn</th>\n",
       "      <td>fiction_nn</td>\n",
       "      <td>1_2</td>\n",
       "      <td>200</td>\n",
       "      <td>100</td>\n",
       "      <td>100</td>\n",
       "      <td>[193, 1, 1, 1]</td>\n",
       "      <td>[95, 1, 1, 1]</td>\n",
       "      <td>[98, 0, 0, 0]</td>\n",
       "      <td>[0.985, 0.005, 0.005, 0.005]</td>\n",
       "      <td>[0.969, 0.01, 0.01, 0.01]</td>\n",
       "      <td>[1.0, 0.0, 0.0, 0.0]</td>\n",
       "      <td>0</td>\n",
       "      <td>0</td>\n",
       "      <td>0</td>\n",
       "      <td>0.124410</td>\n",
       "      <td>1</td>\n",
       "      <td>5</td>\n",
       "      <td>1</td>\n",
       "      <td>5</td>\n",
       "      <td>-0.518352</td>\n",
       "    </tr>\n",
       "    <tr>\n",
       "      <th>ounce_nn</th>\n",
       "      <td>ounce_nn</td>\n",
       "      <td>1_2</td>\n",
       "      <td>200</td>\n",
       "      <td>100</td>\n",
       "      <td>100</td>\n",
       "      <td>[196, 1, 1, 1]</td>\n",
       "      <td>[97, 1, 1, 0]</td>\n",
       "      <td>[99, 0, 0, 1]</td>\n",
       "      <td>[0.985, 0.005, 0.005, 0.005]</td>\n",
       "      <td>[0.98, 0.01, 0.01, 0.0]</td>\n",
       "      <td>[0.99, 0.0, 0.0, 0.01]</td>\n",
       "      <td>0</td>\n",
       "      <td>0</td>\n",
       "      <td>0</td>\n",
       "      <td>0.122964</td>\n",
       "      <td>1</td>\n",
       "      <td>5</td>\n",
       "      <td>1</td>\n",
       "      <td>5</td>\n",
       "      <td>-0.512877</td>\n",
       "    </tr>\n",
       "    <tr>\n",
       "      <th>rag_nn</th>\n",
       "      <td>rag_nn</td>\n",
       "      <td>1_2</td>\n",
       "      <td>200</td>\n",
       "      <td>100</td>\n",
       "      <td>100</td>\n",
       "      <td>[156, 9, 6, 5, 2, 1, 1, 1, 1, 1, 1, 1]</td>\n",
       "      <td>[84, 7, 2, 2, 0, 1, 1, 1, 0, 0, 0, 0]</td>\n",
       "      <td>[72, 2, 4, 3, 2, 0, 0, 0, 1, 1, 1, 1]</td>\n",
       "      <td>[0.843, 0.049, 0.032, 0.027, 0.011, 0.005, 0.0...</td>\n",
       "      <td>[0.857, 0.071, 0.02, 0.02, 0.0, 0.01, 0.01, 0....</td>\n",
       "      <td>[0.828, 0.023, 0.046, 0.034, 0.023, 0.0, 0.0, ...</td>\n",
       "      <td>0</td>\n",
       "      <td>0</td>\n",
       "      <td>0</td>\n",
       "      <td>0.253659</td>\n",
       "      <td>1</td>\n",
       "      <td>5</td>\n",
       "      <td>1</td>\n",
       "      <td>5</td>\n",
       "      <td>-0.484325</td>\n",
       "    </tr>\n",
       "    <tr>\n",
       "      <th>risk_nn</th>\n",
       "      <td>risk_nn</td>\n",
       "      <td>1_2</td>\n",
       "      <td>200</td>\n",
       "      <td>100</td>\n",
       "      <td>100</td>\n",
       "      <td>[200]</td>\n",
       "      <td>[100]</td>\n",
       "      <td>[100]</td>\n",
       "      <td>[1.0]</td>\n",
       "      <td>[1.0]</td>\n",
       "      <td>[1.0]</td>\n",
       "      <td>0</td>\n",
       "      <td>0</td>\n",
       "      <td>0</td>\n",
       "      <td>0.000000</td>\n",
       "      <td>1</td>\n",
       "      <td>5</td>\n",
       "      <td>1</td>\n",
       "      <td>5</td>\n",
       "      <td>-0.514487</td>\n",
       "    </tr>\n",
       "    <tr>\n",
       "      <th>savage_nn</th>\n",
       "      <td>savage_nn</td>\n",
       "      <td>1_2</td>\n",
       "      <td>200</td>\n",
       "      <td>100</td>\n",
       "      <td>100</td>\n",
       "      <td>[196, 1]</td>\n",
       "      <td>[100, 0]</td>\n",
       "      <td>[96, 1]</td>\n",
       "      <td>[0.995, 0.005]</td>\n",
       "      <td>[1.0, 0.0]</td>\n",
       "      <td>[0.99, 0.01]</td>\n",
       "      <td>0</td>\n",
       "      <td>0</td>\n",
       "      <td>0</td>\n",
       "      <td>0.071930</td>\n",
       "      <td>1</td>\n",
       "      <td>5</td>\n",
       "      <td>1</td>\n",
       "      <td>5</td>\n",
       "      <td>-0.506013</td>\n",
       "    </tr>\n",
       "  </tbody>\n",
       "</table>\n",
       "</div>"
      ],
      "text/plain": [
       "                             lemma grouping  nodes  nodes1  nodes2  \\\n",
       "word                                                                 \n",
       "contemplation_nn  contemplation_nn      1_2    200     100     100   \n",
       "donkey_nn                donkey_nn      1_2    200     100     100   \n",
       "fiction_nn              fiction_nn      1_2    200     100     100   \n",
       "ounce_nn                  ounce_nn      1_2    200     100     100   \n",
       "rag_nn                      rag_nn      1_2    200     100     100   \n",
       "risk_nn                    risk_nn      1_2    200     100     100   \n",
       "savage_nn                savage_nn      1_2    200     100     100   \n",
       "\n",
       "                                       cluster_freq_dist  \\\n",
       "word                                                       \n",
       "contemplation_nn                                [199, 1]   \n",
       "donkey_nn                                    [195, 1, 1]   \n",
       "fiction_nn                                [193, 1, 1, 1]   \n",
       "ounce_nn                                  [196, 1, 1, 1]   \n",
       "rag_nn            [156, 9, 6, 5, 2, 1, 1, 1, 1, 1, 1, 1]   \n",
       "risk_nn                                            [200]   \n",
       "savage_nn                                       [196, 1]   \n",
       "\n",
       "                                     cluster_freq_dist1  \\\n",
       "word                                                      \n",
       "contemplation_nn                                [99, 1]   \n",
       "donkey_nn                                    [97, 1, 0]   \n",
       "fiction_nn                                [95, 1, 1, 1]   \n",
       "ounce_nn                                  [97, 1, 1, 0]   \n",
       "rag_nn            [84, 7, 2, 2, 0, 1, 1, 1, 0, 0, 0, 0]   \n",
       "risk_nn                                           [100]   \n",
       "savage_nn                                      [100, 0]   \n",
       "\n",
       "                                     cluster_freq_dist2  \\\n",
       "word                                                      \n",
       "contemplation_nn                               [100, 0]   \n",
       "donkey_nn                                    [98, 0, 1]   \n",
       "fiction_nn                                [98, 0, 0, 0]   \n",
       "ounce_nn                                  [99, 0, 0, 1]   \n",
       "rag_nn            [72, 2, 4, 3, 2, 0, 0, 0, 1, 1, 1, 1]   \n",
       "risk_nn                                           [100]   \n",
       "savage_nn                                       [96, 1]   \n",
       "\n",
       "                                                  cluster_prob_dist  \\\n",
       "word                                                                  \n",
       "contemplation_nn                                     [0.995, 0.005]   \n",
       "donkey_nn                                      [0.99, 0.005, 0.005]   \n",
       "fiction_nn                             [0.985, 0.005, 0.005, 0.005]   \n",
       "ounce_nn                               [0.985, 0.005, 0.005, 0.005]   \n",
       "rag_nn            [0.843, 0.049, 0.032, 0.027, 0.011, 0.005, 0.0...   \n",
       "risk_nn                                                       [1.0]   \n",
       "savage_nn                                            [0.995, 0.005]   \n",
       "\n",
       "                                                 cluster_prob_dist1  \\\n",
       "word                                                                  \n",
       "contemplation_nn                                       [0.99, 0.01]   \n",
       "donkey_nn                                         [0.99, 0.01, 0.0]   \n",
       "fiction_nn                                [0.969, 0.01, 0.01, 0.01]   \n",
       "ounce_nn                                    [0.98, 0.01, 0.01, 0.0]   \n",
       "rag_nn            [0.857, 0.071, 0.02, 0.02, 0.0, 0.01, 0.01, 0....   \n",
       "risk_nn                                                       [1.0]   \n",
       "savage_nn                                                [1.0, 0.0]   \n",
       "\n",
       "                                                 cluster_prob_dist2  \\\n",
       "word                                                                  \n",
       "contemplation_nn                                         [1.0, 0.0]   \n",
       "donkey_nn                                         [0.99, 0.0, 0.01]   \n",
       "fiction_nn                                     [1.0, 0.0, 0.0, 0.0]   \n",
       "ounce_nn                                     [0.99, 0.0, 0.0, 0.01]   \n",
       "rag_nn            [0.828, 0.023, 0.046, 0.034, 0.023, 0.0, 0.0, ...   \n",
       "risk_nn                                                       [1.0]   \n",
       "savage_nn                                              [0.99, 0.01]   \n",
       "\n",
       "                  change_binary  change_binary_gain  change_binary_loss  \\\n",
       "word                                                                      \n",
       "contemplation_nn              0                   0                   0   \n",
       "donkey_nn                     0                   0                   0   \n",
       "fiction_nn                    0                   0                   0   \n",
       "ounce_nn                      0                   0                   0   \n",
       "rag_nn                        0                   0                   0   \n",
       "risk_nn                       0                   0                   0   \n",
       "savage_nn                     0                   0                   0   \n",
       "\n",
       "                  change_graded  k1  n1  k2  n2      pred  \n",
       "word                                                       \n",
       "contemplation_nn       0.070839   1   5   1   5 -0.511388  \n",
       "donkey_nn              0.100760   1   5   1   5 -0.518880  \n",
       "fiction_nn             0.124410   1   5   1   5 -0.518352  \n",
       "ounce_nn               0.122964   1   5   1   5 -0.512877  \n",
       "rag_nn                 0.253659   1   5   1   5 -0.484325  \n",
       "risk_nn                0.000000   1   5   1   5 -0.514487  \n",
       "savage_nn              0.071930   1   5   1   5 -0.506013  "
      ]
     },
     "execution_count": 18,
     "metadata": {},
     "output_type": "execute_result"
    }
   ],
   "source": [
    "sample"
   ]
  }
 ],
 "metadata": {
  "kernelspec": {
   "display_name": "Python [conda env:lscdbench]",
   "language": "python",
   "name": "conda-env-lscdbench-py"
  },
  "language_info": {
   "codemirror_mode": {
    "name": "ipython",
    "version": 3
   },
   "file_extension": ".py",
   "mimetype": "text/x-python",
   "name": "python",
   "nbconvert_exporter": "python",
   "pygments_lexer": "ipython3",
   "version": "3.10.12"
  }
 },
 "nbformat": 4,
 "nbformat_minor": 2
}
