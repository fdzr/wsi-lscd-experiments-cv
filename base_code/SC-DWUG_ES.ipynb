{
 "cells": [
  {
   "cell_type": "code",
   "execution_count": 1,
   "metadata": {},
   "outputs": [],
   "source": [
    "from datetime import datetime\n",
    "import functools as f\n",
    "from itertools import product\n",
    "\n",
    "from sklearn.cluster import SpectralClustering\n",
    "from numpy.typing import NDArray\n",
    "import numpy as np\n",
    "\n",
    "from common_generate_predictions import load_data, grid_search"
   ]
  },
  {
   "cell_type": "code",
   "execution_count": 2,
   "metadata": {},
   "outputs": [],
   "source": [
    "max_number_clusters = 5\n",
    "wic_data = False\n",
    "method = \"sc\"\n",
    "llm = \"xl-lexeme\"\n",
    "dataset = \"dwug_en\"\n",
    "path_to_data = f\"../input/{llm}/{dataset}\"\n",
    "path_to_gold_data = \"../test_data_en.csv\"\n",
    "score_paths = [\"wic1\"]"
   ]
  },
  {
   "cell_type": "code",
   "execution_count": 3,
   "metadata": {},
   "outputs": [],
   "source": [
    "def get_clusters(\n",
    "    adj_matrix: NDArray[np.float64 | np.int32], hyperparameters: dict, seed=456\n",
    "):\n",
    "    clustering = SpectralClustering(\n",
    "        n_clusters=hyperparameters[\"n_clusters\"],\n",
    "        affinity=hyperparameters[\"affinity\"],\n",
    "        assign_labels=hyperparameters[\"strategy\"],\n",
    "        random_state=seed,\n",
    "    ).fit(adj_matrix)\n",
    "\n",
    "    return clustering.labels_"
   ]
  },
  {
   "cell_type": "code",
   "execution_count": 4,
   "metadata": {},
   "outputs": [],
   "source": [
    "def generate_hyperparameters_for_sc(max_number_clusters: int):\n",
    "    combinations = []\n",
    "    for affinity in [\"precomputed\"]:\n",
    "        for strategy in [\"kmeans\"]:\n",
    "            combinations.append(\n",
    "                {\n",
    "                    \"affinity\": affinity,\n",
    "                    \"strategy\": strategy,\n",
    "                }\n",
    "            )\n",
    "\n",
    "    return combinations"
   ]
  },
  {
   "cell_type": "code",
   "execution_count": null,
   "metadata": {},
   "outputs": [],
   "source": [
    "generate_hyperparameters_for_sc(max_number_clusters)"
   ]
  },
  {
   "cell_type": "code",
   "execution_count": 6,
   "metadata": {},
   "outputs": [],
   "source": [
    "quantile = range(0, 7)\n",
    "fill_diagonal = [True, False]\n",
    "normalize = [True, False]\n",
    "hc = product(\n",
    "    quantile,\n",
    "    fill_diagonal,\n",
    "    normalize,\n",
    "    score_paths,\n",
    "    generate_hyperparameters_for_sc(max_number_clusters),\n",
    ")\n",
    "\n",
    "hyperparameter_combinations = [\n",
    "    {\n",
    "        \"quantile\": q,\n",
    "        \"fill_diagonal\": fd,\n",
    "        \"normalize\": nm,\n",
    "        \"prompt\": sp,\n",
    "        \"model_hyperparameters\": mhc,\n",
    "    }\n",
    "    for q, fd, nm, sp, mhc in hc\n",
    "]"
   ]
  },
  {
   "cell_type": "code",
   "execution_count": null,
   "metadata": {},
   "outputs": [],
   "source": [
    "print(hyperparameter_combinations)\n",
    "print(len(hyperparameter_combinations))"
   ]
  },
  {
   "cell_type": "code",
   "execution_count": 8,
   "metadata": {},
   "outputs": [],
   "source": [
    "metadata = {\n",
    "    \"fill_diagonal\": True,\n",
    "    \"normalize\": True,\n",
    "    \"method\": method,\n",
    "    \"path_to_gold_data\": path_to_gold_data,\n",
    "    \"path_to_data\": path_to_data,\n",
    "    \"path_to_sense_data\": \"../dwug_en_sense.csv\",\n",
    "    \"llm\": llm,\n",
    "    \"score_paths\": score_paths,\n",
    "    \"dataset\": dataset,\n",
    "    \"wic_data\": wic_data,\n",
    "    \"max_n_clusters\": max_number_clusters,\n",
    "    \"path_to_save_results\": f\"../cv-experiments-lscd-ari-dwug-cleaned/{method}/{llm}/{dataset}\",\n",
    "}"
   ]
  },
  {
   "cell_type": "code",
   "execution_count": null,
   "metadata": {},
   "outputs": [],
   "source": [
    "start_time = datetime.now()\n",
    "\n",
    "grid_search(\n",
    "    f.partial(load_data, path_to_data),\n",
    "    get_clusters,\n",
    "    hyperparameter_combinations,\n",
    "    metadata=metadata,\n",
    ")\n",
    "\n",
    "print(f\"Elapsed time: {datetime.now() - start_time}\")"
   ]
  }
 ],
 "metadata": {
  "kernelspec": {
   "display_name": "ex",
   "language": "python",
   "name": "python3"
  },
  "language_info": {
   "codemirror_mode": {
    "name": "ipython",
    "version": 3
   },
   "file_extension": ".py",
   "mimetype": "text/x-python",
   "name": "python",
   "nbconvert_exporter": "python",
   "pygments_lexer": "ipython3",
   "version": "3.10.9"
  }
 },
 "nbformat": 4,
 "nbformat_minor": 2
}
