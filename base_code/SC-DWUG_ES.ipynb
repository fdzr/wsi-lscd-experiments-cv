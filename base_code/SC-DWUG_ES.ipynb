{
 "cells": [
  {
   "cell_type": "code",
   "execution_count": null,
   "metadata": {},
   "outputs": [],
   "source": [
    "from datetime import datetime\n",
    "import functools as f\n",
    "\n",
    "from sklearn.cluster import SpectralClustering\n",
    "from numpy.typing import NDArray\n",
    "import numpy as np\n",
    "\n",
    "from common_generate_predictions import load_data, grid_search"
   ]
  },
  {
   "cell_type": "code",
   "execution_count": null,
   "metadata": {},
   "outputs": [],
   "source": [
    "max_number_clusters = 5\n",
    "wic_data = True\n",
    "method = \"sc\"\n",
    "llm = \"wic\"\n",
    "dataset = \"dwug_es\"\n",
    "path_to_data = f\"../input/wic-scores/{dataset}\"\n",
    "path_to_gold_data = \"../test_data_es.csv\"\n",
    "prompts = [\"wic1\", \"wic2\", \"wic3\", \"wic4\", \"wic5\"]"
   ]
  },
  {
   "cell_type": "code",
   "execution_count": null,
   "metadata": {},
   "outputs": [],
   "source": [
    "def get_clusters(\n",
    "    adj_matrix: NDArray[np.float64 | np.int32], hyperparameters: dict, seed=456\n",
    "):\n",
    "    clustering = SpectralClustering(\n",
    "        n_clusters=hyperparameters[\"n_clusters\"],\n",
    "        affinity=hyperparameters[\"affinity\"],\n",
    "        assign_labels=hyperparameters[\"strategy\"],\n",
    "        random_state=seed,\n",
    "    ).fit(adj_matrix)\n",
    "\n",
    "    return clustering.labels_"
   ]
  },
  {
   "cell_type": "code",
   "execution_count": null,
   "metadata": {},
   "outputs": [],
   "source": [
    "def generate_hyperparameters_for_sc(max_number_clusters: int):\n",
    "    combinations = []\n",
    "    for ncluster in range(2, max_number_clusters + 1):\n",
    "        for affinity in [\"precomputed\", \"nearest_neighbors\", \"precomputed_nearest_neighbors\", \"rbf\"]:\n",
    "            for strategy in [\"kmeans\", \"discretize\", \"cluster_qr\"]:\n",
    "                combinations.append(\n",
    "                    {\n",
    "                        \"n_clusters\": ncluster,\n",
    "                        \"affinity\": affinity,\n",
    "                        \"strategy\": strategy,\n",
    "                    }\n",
    "                )\n",
    "\n",
    "    return combinations"
   ]
  },
  {
   "cell_type": "code",
   "execution_count": null,
   "metadata": {},
   "outputs": [],
   "source": [
    "metadata = {\n",
    "    \"fill_diagonal\": True,\n",
    "    \"normalize\": False,\n",
    "    \"method\": method,\n",
    "    \"path_to_gold_data\": path_to_gold_data,\n",
    "    \"path_to_data\": path_to_data,\n",
    "    \"llm\": llm,\n",
    "    \"prompts\": prompts,\n",
    "    \"dataset\": dataset,\n",
    "    \"wic_data\": wic_data,\n",
    "}"
   ]
  },
  {
   "cell_type": "code",
   "execution_count": null,
   "metadata": {},
   "outputs": [],
   "source": [
    "start_time = datetime.now()\n",
    "\n",
    "grid_search(\n",
    "    f.partial(load_data, path_to_data),\n",
    "    get_clusters,\n",
    "    generate_hyperparameters_for_sc(max_number_clusters=max_number_clusters),\n",
    "    metadata=metadata,\n",
    ")\n",
    "\n",
    "print(f\"Elapsed time: {datetime.now() - start_time}\")"
   ]
  }
 ],
 "metadata": {
  "kernelspec": {
   "display_name": "ex",
   "language": "python",
   "name": "python3"
  },
  "language_info": {
   "codemirror_mode": {
    "name": "ipython",
    "version": 3
   },
   "file_extension": ".py",
   "mimetype": "text/x-python",
   "name": "python",
   "nbconvert_exporter": "python",
   "pygments_lexer": "ipython3",
   "version": "3.10.9"
  }
 },
 "nbformat": 4,
 "nbformat_minor": 2
}
