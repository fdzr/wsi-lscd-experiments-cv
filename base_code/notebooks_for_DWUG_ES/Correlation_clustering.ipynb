{
 "cells": [
  {
   "cell_type": "code",
   "execution_count": null,
   "id": "b8f44c67",
   "metadata": {},
   "outputs": [],
   "source": [
    "from datetime import datetime\n",
    "\n",
    "from _correlation import cluster_correlation_search\n",
    "import clustering\n",
    "from common_new_functionalities import load_dwug_sense, grid_search_without_nclusters\n",
    "import networkx as nx\n",
    "import numpy as np"
   ]
  },
  {
   "cell_type": "code",
   "execution_count": null,
   "id": "b1298f76",
   "metadata": {},
   "outputs": [],
   "source": [
    "def get_clusters(adj_matrix, hyperparameters, seed=0):\n",
    "    G = clustering._adjacency_matrix_to_nxgraph(\n",
    "        adj_matrix,\n",
    "        use_disconnected_edges=hyperparameters[\"use_disconnected_edges\"],\n",
    "    )\n",
    "    hyperparameters.pop(\"use_disconnected_edges\", None)\n",
    "\n",
    "    clusters = clustering.correlation_clustering(G, **hyperparameters)\n",
    "    return clustering._convert_graph_cluster_list_set_to_list(G, clusters)"
   ]
  },
  {
   "cell_type": "code",
   "execution_count": null,
   "id": "919d80b0",
   "metadata": {},
   "outputs": [],
   "source": [
    "method = \"correlation_clustering\"\n",
    "is_cross_validation=False\n",
    "path_to_experiments = {\n",
    "    True: \"../cv-experiments/\" + f\"{method}/\" + \"{kfold}_fold\",\n",
    "    False: \"../no-cv-experiments/\" + f\"{method}/\" + \"{kfold}\"\n",
    "}"
   ]
  },
  {
   "cell_type": "code",
   "execution_count": null,
   "id": "5b830818",
   "metadata": {},
   "outputs": [],
   "source": [
    "def generate_hyperparameter_combinations_for_cc():\n",
    "    combinations = []\n",
    "\n",
    "    for number_sense in [10]:\n",
    "        for attempt in [2000]:\n",
    "            for iteration in [50000]:\n",
    "                combinations.append(\n",
    "                    {\n",
    "                        \"max_attempts\": attempt,\n",
    "                        \"max_iters\": iteration,\n",
    "                        \"max_senses\": number_sense,\n",
    "                    }\n",
    "                )\n",
    "\n",
    "    return combinations"
   ]
  },
  {
   "cell_type": "code",
   "execution_count": null,
   "id": "375fd30f",
   "metadata": {
    "scrolled": true
   },
   "outputs": [],
   "source": [
    "start_time = datetime.now()\n",
    "\n",
    "\n",
    "grid_search_without_nclusters(\n",
    "    load_dwug_sense,\n",
    "    get_clusters,\n",
    "    [],\n",
    "    include_binarize=True,\n",
    "    method=method,\n",
    "    logger_message=None,\n",
    "    cache=path_to_experiments[is_cross_validation],\n",
    "    run_experiments=1,\n",
    "    dataset=\"dwug_data_annotated_only\",\n",
    "    is_cross_validation=is_cross_validation\n",
    ")\n",
    "\n",
    "print(f\"Elapsed time: {datetime.now() - start_time}\")"
   ]
  }
 ],
 "metadata": {
  "kernelspec": {
   "display_name": "ex",
   "language": "python",
   "name": "python3"
  },
  "language_info": {
   "codemirror_mode": {
    "name": "ipython",
    "version": 3
   },
   "file_extension": ".py",
   "mimetype": "text/x-python",
   "name": "python",
   "nbconvert_exporter": "python",
   "pygments_lexer": "ipython3",
   "version": "3.1.-1"
  },
  "vscode": {
   "interpreter": {
    "hash": "07f2ece30aaa4ed9b8367ba0267db2847fd5fa2a74a1b700f6a01c188482df7f"
   }
  }
 },
 "nbformat": 4,
 "nbformat_minor": 5
}
