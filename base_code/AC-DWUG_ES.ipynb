{
 "cells": [
  {
   "cell_type": "code",
   "execution_count": 1,
   "metadata": {},
   "outputs": [],
   "source": [
    "from datetime import datetime\n",
    "import functools as f\n",
    "from itertools import product\n",
    "\n",
    "from sklearn.cluster import AgglomerativeClustering\n",
    "import numpy as np\n",
    "from numpy.typing import NDArray\n",
    "\n",
    "from common_generate_predictions import grid_search, load_data"
   ]
  },
  {
   "cell_type": "code",
   "execution_count": 2,
   "metadata": {},
   "outputs": [],
   "source": [
    "max_number_clusters = 5\n",
    "wic_data = True\n",
    "method = \"ac\"\n",
    "llm = \"wic\"\n",
    "dataset = \"dwug_es\"\n",
    "path_to_data = f\"../input/wic-scores/{dataset}_cleaned\"\n",
    "path_to_gold_data = \"../test_data_es.csv\"\n",
    "score_paths = [\"wic1\", \"wic2\", \"wic3\", \"wic4\", \"wic5\", \"wic6\", \"wic7\"]"
   ]
  },
  {
   "cell_type": "code",
   "execution_count": 3,
   "metadata": {},
   "outputs": [],
   "source": [
    "def get_clusters(adj_matrix: NDArray[np.float64 | np.int32], hyperparameters: dict):\n",
    "    clustering = AgglomerativeClustering(\n",
    "        n_clusters=hyperparameters[\"n_clusters\"],\n",
    "        metric=hyperparameters[\"metric\"],\n",
    "        linkage=hyperparameters[\"linkage\"],\n",
    "    ).fit(adj_matrix)\n",
    "\n",
    "    return clustering.labels_\n",
    "    "
   ]
  },
  {
   "cell_type": "code",
   "execution_count": 4,
   "metadata": {},
   "outputs": [],
   "source": [
    "def generate_hyparameters_combinations_for_ac(max_number_clusters: int):\n",
    "    combinations = []\n",
    "    for metric in [\"cosine\"]:\n",
    "        for l in [\"complete\"]:\n",
    "            combinations.append(\n",
    "                {\n",
    "                    \"metric\": metric,\n",
    "                    \"linkage\": l,\n",
    "                }\n",
    "            )\n",
    "\n",
    "    return combinations"
   ]
  },
  {
   "cell_type": "code",
   "execution_count": null,
   "metadata": {},
   "outputs": [],
   "source": [
    "generate_hyparameters_combinations_for_ac(5)"
   ]
  },
  {
   "cell_type": "code",
   "execution_count": 6,
   "metadata": {},
   "outputs": [],
   "source": [
    "quantile = range(0, 7)\n",
    "fill_diagonal = [True, False]\n",
    "normalize = [True, False]\n",
    "hc = product(\n",
    "    quantile,\n",
    "    fill_diagonal,\n",
    "    normalize,\n",
    "    score_paths,\n",
    "    generate_hyparameters_combinations_for_ac(5)\n",
    ")\n",
    "\n",
    "hyperparameter_combinations = [\n",
    "    {\n",
    "        \"quantile\": q,\n",
    "        \"fill_diagonal\": fd,\n",
    "        \"normalize\": nm,\n",
    "        \"prompt\": sp,\n",
    "        \"model_hyperparameters\": mhc,\n",
    "        \n",
    "    }\n",
    "    for q, fd, nm, sp, mhc in hc\n",
    "]"
   ]
  },
  {
   "cell_type": "code",
   "execution_count": null,
   "metadata": {},
   "outputs": [],
   "source": [
    "print(hyperparameter_combinations)\n",
    "print(len(hyperparameter_combinations))"
   ]
  },
  {
   "cell_type": "code",
   "execution_count": 8,
   "metadata": {},
   "outputs": [],
   "source": [
    "metadata = {\n",
    "    \"fill_diagonal\": True,\n",
    "    \"normalize\": True,\n",
    "    \"method\": method,\n",
    "    \"path_to_gold_data\": path_to_gold_data,\n",
    "    \"path_to_data\": path_to_data,\n",
    "    \"path_to_sense_data\": \"../dwug_es_sense.csv\",\n",
    "    \"llm\": llm,\n",
    "    \"score_paths\": score_paths,\n",
    "    \"dataset\": dataset,\n",
    "    \"wic_data\": wic_data,\n",
    "    \"max_n_clusters\": max_number_clusters,\n",
    "    \"path_to_save_results\": f\"../cv-experiments-lscd-ari-dwug-cleaned/{method}/{llm}/{dataset}\",\n",
    "}"
   ]
  },
  {
   "cell_type": "code",
   "execution_count": null,
   "metadata": {},
   "outputs": [],
   "source": [
    "start_time = datetime.now()\n",
    "\n",
    "grid_search(\n",
    "    f.partial(load_data, path_to_data),\n",
    "    get_clusters,\n",
    "    hyperparameter_combinations,\n",
    "    metadata=metadata,\n",
    ")\n",
    "\n",
    "print(f\"Elapsed time: {datetime.now() - start_time}\")"
   ]
  }
 ],
 "metadata": {
  "kernelspec": {
   "display_name": "ex",
   "language": "python",
   "name": "python3"
  },
  "language_info": {
   "codemirror_mode": {
    "name": "ipython",
    "version": 3
   },
   "file_extension": ".py",
   "mimetype": "text/x-python",
   "name": "python",
   "nbconvert_exporter": "python",
   "pygments_lexer": "ipython3",
   "version": "3.10.9"
  }
 },
 "nbformat": 4,
 "nbformat_minor": 2
}
