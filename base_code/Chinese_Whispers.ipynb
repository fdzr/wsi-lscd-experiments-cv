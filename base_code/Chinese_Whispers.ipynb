{
 "cells": [
  {
   "cell_type": "code",
   "execution_count": null,
   "metadata": {
    "execution": {
     "iopub.execute_input": "2022-04-20T18:30:40.040352Z",
     "iopub.status.busy": "2022-04-20T18:30:40.035870Z",
     "iopub.status.idle": "2022-04-20T18:30:41.300401Z",
     "shell.execute_reply": "2022-04-20T18:30:41.301267Z"
    }
   },
   "outputs": [],
   "source": [
    "import logging\n",
    "from datetime import datetime\n",
    "\n",
    "from common_new_functionalities import load_dwug_sense, grid_search_without_nclusters\n",
    "import clustering"
   ]
  },
  {
   "cell_type": "code",
   "execution_count": null,
   "metadata": {
    "execution": {
     "iopub.execute_input": "2022-04-20T18:30:41.306520Z",
     "iopub.status.busy": "2022-04-20T18:30:41.305427Z",
     "iopub.status.idle": "2022-04-20T18:30:41.307666Z",
     "shell.execute_reply": "2022-04-20T18:30:41.308531Z"
    }
   },
   "outputs": [],
   "source": [
    "def get_clusters(adj_matrix, hyperparameters, seed=0):\n",
    "    graph = clustering._adjacency_matrix_to_nxgraph(adj_matrix)\n",
    "    if \"seed\" not in hyperparameters:\n",
    "        hyperparameters.update({\"seed\": seed + 90})\n",
    "\n",
    "    clusters = clustering.chinese_whispers_clustering(graph, **hyperparameters)\n",
    "    del hyperparameters[\"seed\"]\n",
    "    return clustering._convert_graph_cluster_list_set_to_list(graph, clusters)"
   ]
  },
  {
   "cell_type": "code",
   "execution_count": null,
   "metadata": {
    "execution": {
     "iopub.execute_input": "2022-04-20T18:30:41.313204Z",
     "iopub.status.busy": "2022-04-20T18:30:41.312124Z",
     "iopub.status.idle": "2022-04-20T18:30:41.314344Z",
     "shell.execute_reply": "2022-04-20T18:30:41.315220Z"
    }
   },
   "outputs": [],
   "source": [
    "model_hyperparameter_combinations = []\n",
    "\n",
    "for weighting in ['top', 'lin', 'log']:\n",
    "    model_hyperparameter_combinations.append({'weighting': weighting})"
   ]
  },
  {
   "cell_type": "code",
   "execution_count": null,
   "metadata": {},
   "outputs": [],
   "source": [
    "# logging.basicConfig(\n",
    "#     filename=\"logs/chinese_whispers/logs.txt\",\n",
    "#     filemode=\"a+\",\n",
    "#     format=\"%(asctime)s : %(message)s\",\n",
    "#     datefmt=\"%y-%m-%d %I:%M:%S %p\",\n",
    "#     level=logging.INFO\n",
    "# )"
   ]
  },
  {
   "cell_type": "code",
   "execution_count": null,
   "metadata": {},
   "outputs": [],
   "source": [
    "method = \"chinese_whispers\"\n",
    "is_cross_validation=False\n",
    "path_to_experiments = {\n",
    "    True: \"../cv-experiments/\" + f\"{method}/\" + \"{kfold}_fold\",\n",
    "    False: \"../no-cv-experiments/\" + f\"{method}/\" + \"{kfold}\"\n",
    "}"
   ]
  },
  {
   "cell_type": "code",
   "execution_count": null,
   "metadata": {
    "execution": {
     "iopub.execute_input": "2022-04-20T18:30:41.329960Z",
     "iopub.status.busy": "2022-04-20T18:30:41.328896Z",
     "iopub.status.idle": "2022-04-20T18:44:15.334486Z",
     "shell.execute_reply": "2022-04-20T18:44:15.335376Z"
    },
    "scrolled": true
   },
   "outputs": [],
   "source": [
    "start_time = datetime.now()\n",
    "\n",
    "grid_search_without_nclusters(\n",
    "    load_dwug_sense, \n",
    "    get_clusters, \n",
    "    model_hyperparameter_combinations, \n",
    "    include_binarize=True,\n",
    "    method=f\"{method}\",\n",
    "    logger_message=None,\n",
    "    cache=path_to_experiments[is_cross_validation],\n",
    "    run_experiments=1,\n",
    "    dataset=\"dwug_data_annotated_only\",\n",
    "    is_cross_validation=is_cross_validation\n",
    ")\n",
    "\n",
    "print(f\"Elapsed time: {datetime.now() - start_time}\")\n"
   ]
  }
 ],
 "metadata": {
  "kernelspec": {
   "display_name": "Python 3 (ipykernel)",
   "language": "python",
   "name": "python3"
  },
  "language_info": {
   "codemirror_mode": {
    "name": "ipython",
    "version": 3
   },
   "file_extension": ".py",
   "mimetype": "text/x-python",
   "name": "python",
   "nbconvert_exporter": "python",
   "pygments_lexer": "ipython3",
   "version": "3.10.9"
  }
 },
 "nbformat": 4,
 "nbformat_minor": 4
}
